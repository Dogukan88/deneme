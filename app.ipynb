{
 "cells": [
  {
   "cell_type": "code",
   "execution_count": 2,
   "metadata": {},
   "outputs": [
    {
     "name": "stdout",
     "output_type": "stream",
     "text": [
      "      Unnamed: 0  price      brand    model  year   title_status   mileage   \n",
      "0              0   6300     toyota  cruiser  2008  clean vehicle  274117.0  \\\n",
      "1              1   2899       ford       se  2011  clean vehicle  190552.0   \n",
      "2              2   5350      dodge      mpv  2018  clean vehicle   39590.0   \n",
      "3              3  25000       ford     door  2014  clean vehicle   64146.0   \n",
      "4              4  27700  chevrolet     1500  2018  clean vehicle    6654.0   \n",
      "...          ...    ...        ...      ...   ...            ...       ...   \n",
      "2494        2494   7800     nissan    versa  2019  clean vehicle   23609.0   \n",
      "2495        2495   9200     nissan    versa  2018  clean vehicle   34553.0   \n",
      "2496        2496   9200     nissan    versa  2018  clean vehicle   31594.0   \n",
      "2497        2497   9200     nissan    versa  2018  clean vehicle   32557.0   \n",
      "2498        2498   9200     nissan    versa  2018  clean vehicle   31371.0   \n",
      "\n",
      "       color                  vin        lot       state country   \n",
      "0      black    jtezu11f88k007763  159348797  new jersey     usa  \\\n",
      "1     silver    2fmdk3gc4bbb02217  166951262   tennessee     usa   \n",
      "2     silver    3c4pdcgg5jt346413  167655728     georgia     usa   \n",
      "3       blue    1ftfw1et4efc23745  167753855    virginia     usa   \n",
      "4        red    3gcpcrec2jg473991  167763266     florida     usa   \n",
      "...      ...                  ...        ...         ...     ...   \n",
      "2494     red    3n1cn7ap9kl880319  167722715  california     usa   \n",
      "2495  silver    3n1cn7ap5jl884088  167762225     florida     usa   \n",
      "2496  silver    3n1cn7ap9jl884191  167762226     florida     usa   \n",
      "2497   black    3n1cn7ap3jl883263  167762227     florida     usa   \n",
      "2498  silver    3n1cn7ap4jl884311  167762228     florida     usa   \n",
      "\n",
      "          condition  \n",
      "0      10 days left  \n",
      "1       6 days left  \n",
      "2       2 days left  \n",
      "3     22 hours left  \n",
      "4     22 hours left  \n",
      "...             ...  \n",
      "2494    1 days left  \n",
      "2495  21 hours left  \n",
      "2496  21 hours left  \n",
      "2497    2 days left  \n",
      "2498  21 hours left  \n",
      "\n",
      "[2499 rows x 13 columns]\n"
     ]
    }
   ],
   "source": [
    "import pandas as pd\n",
    "import streamlit as st\n",
    "import plotly.express as px\n",
    "import os\n",
    "\n",
    "pwd = os.getcwd()\n",
    "data = pd.read_csv(pwd + (\"\\\\USA_cars_datasets.csv\"))\n",
    "print(data)"
   ]
  },
  {
   "cell_type": "code",
   "execution_count": 3,
   "metadata": {},
   "outputs": [
    {
     "name": "stderr",
     "output_type": "stream",
     "text": [
      "2023-08-16 05:32:40.384 \n",
      "  \u001b[33m\u001b[1mWarning:\u001b[0m to view this Streamlit app on a browser, run it with the following\n",
      "  command:\n",
      "\n",
      "    streamlit run C:\\Users\\doguk\\AppData\\Roaming\\Python\\Python310\\site-packages\\ipykernel_launcher.py [ARGUMENTS]\n"
     ]
    },
    {
     "data": {
      "text/plain": [
       "DeltaGenerator()"
      ]
     },
     "execution_count": 3,
     "metadata": {},
     "output_type": "execute_result"
    }
   ],
   "source": [
    "hist_1 = px.histogram(data,x=\"price\")\n",
    "st.plotly_chart(hist_1, use_container_width=True)"
   ]
  },
  {
   "cell_type": "code",
   "execution_count": 4,
   "metadata": {},
   "outputs": [
    {
     "data": {
      "text/plain": [
       "DeltaGenerator()"
      ]
     },
     "execution_count": 4,
     "metadata": {},
     "output_type": "execute_result"
    }
   ],
   "source": [
    "hist_2 = px.histogram(data,x=\"year\")\n",
    "st.plotly_chart(hist_2, use_container_width=True)"
   ]
  },
  {
   "cell_type": "code",
   "execution_count": 5,
   "metadata": {},
   "outputs": [
    {
     "data": {
      "text/plain": [
       "DeltaGenerator()"
      ]
     },
     "execution_count": 5,
     "metadata": {},
     "output_type": "execute_result"
    }
   ],
   "source": [
    "hist_3 = px.histogram(data,x=\"mileage\")\n",
    "st.plotly_chart(hist_3, use_container_width=True)"
   ]
  },
  {
   "cell_type": "code",
   "execution_count": 6,
   "metadata": {},
   "outputs": [
    {
     "data": {
      "text/plain": [
       "DeltaGenerator()"
      ]
     },
     "execution_count": 6,
     "metadata": {},
     "output_type": "execute_result"
    }
   ],
   "source": [
    "hist_4 = px.histogram(data,x=\"lot\")\n",
    "st.plotly_chart(hist_4, use_container_width=True)"
   ]
  },
  {
   "cell_type": "code",
   "execution_count": 7,
   "metadata": {},
   "outputs": [
    {
     "data": {
      "text/plain": [
       "DeltaGenerator()"
      ]
     },
     "execution_count": 7,
     "metadata": {},
     "output_type": "execute_result"
    }
   ],
   "source": [
    "sct_1 = px.scatter(data, x=\"year\", y=\"lot\")\n",
    "st.plotly_chart(sct_1, use_container_width=True)"
   ]
  },
  {
   "cell_type": "code",
   "execution_count": 8,
   "metadata": {},
   "outputs": [
    {
     "data": {
      "text/plain": [
       "DeltaGenerator()"
      ]
     },
     "execution_count": 8,
     "metadata": {},
     "output_type": "execute_result"
    }
   ],
   "source": [
    "sct_2 = px.scatter(data, x=\"year\", y=\"price\")\n",
    "st.plotly_chart(sct_2, use_container_width=True)"
   ]
  },
  {
   "cell_type": "code",
   "execution_count": 9,
   "metadata": {},
   "outputs": [
    {
     "data": {
      "text/plain": [
       "DeltaGenerator()"
      ]
     },
     "execution_count": 9,
     "metadata": {},
     "output_type": "execute_result"
    }
   ],
   "source": [
    "sct_3 = px.scatter(data, x=\"year\", y=\"mileage\")\n",
    "st.plotly_chart(sct_3, use_container_width=True)"
   ]
  },
  {
   "cell_type": "code",
   "execution_count": 10,
   "metadata": {},
   "outputs": [],
   "source": [
    "agree = st.checkbox('Show me year and mileage scatter plot')\n",
    "\n",
    "if agree:\n",
    "    st.plotly_chart(sct_3, use_container_width=True)"
   ]
  },
  {
   "cell_type": "code",
   "execution_count": null,
   "metadata": {},
   "outputs": [],
   "source": []
  }
 ],
 "metadata": {
  "kernelspec": {
   "display_name": "Python 3",
   "language": "python",
   "name": "python3"
  },
  "language_info": {
   "codemirror_mode": {
    "name": "ipython",
    "version": 3
   },
   "file_extension": ".py",
   "mimetype": "text/x-python",
   "name": "python",
   "nbconvert_exporter": "python",
   "pygments_lexer": "ipython3",
   "version": "3.10.11"
  },
  "orig_nbformat": 4
 },
 "nbformat": 4,
 "nbformat_minor": 2
}
